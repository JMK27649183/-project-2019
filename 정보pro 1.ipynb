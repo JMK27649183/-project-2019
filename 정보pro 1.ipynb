{
 "cells": [
  {
   "cell_type": "code",
   "execution_count": 2,
   "metadata": {},
   "outputs": [
    {
     "name": "stdout",
     "output_type": "stream",
     "text": [
      " atomic number : 119\n",
      "다음과 같은 원자는 존재하지 않거나 아직 발견되지 않았습니다\n"
     ]
    }
   ],
   "source": [
    "z =int(input(' atomic number : '))\n",
    "ele=[]\n",
    "for i in range(1, z+1) :\n",
    "    ele.append('e'+str(i))\n",
    "s1 = ele[0:2]\n",
    "s2 = ele[2:4]\n",
    "p2 = ele[4:10]\n",
    "s3 = ele[10:12]\n",
    "p3 = ele[12:18]\n",
    "s4 = ele[18:20]\n",
    "d3 = ele[20:30]\n",
    "p4 = ele[30:36]\n",
    "s5 = ele[36:38]\n",
    "d4 = ele[38:48]\n",
    "p5 = ele[48:54]\n",
    "s6 = ele[54:56]\n",
    "f4 = ele[56:70]\n",
    "d5 = ele[70:80]\n",
    "p6 = ele[80:86]\n",
    "s7 = ele[86:88]\n",
    "f5 = ele[88:102]\n",
    "d6 = ele[102:112]\n",
    "p7 = ele[112:118]\n",
    "\n",
    "else :\n",
    "    print('1s'+'('+str(len(s1))+')', end=' ')\n",
    "    print('2s'+'('+str(len(s2))+')', end=' ')\n",
    "    print('2p'+'('+str(len(p2))+')', end=' ')\n",
    "    print('3s'+'('+str(len(s3))+')', end=' ')\n",
    "    print('3p'+'('+str(len(p3))+')', end=' ')\n",
    "    print('4s'+'('+str(len(s4))+')', end=' ')\n",
    "    print('3d'+'('+str(len(d3))+')', end=' ')\n",
    "    print('4p'+'('+str(len(p4))+')', end=' ')\n",
    "    print('5s'+'('+str(len(s5))+')', end=' ')\n",
    "    print('4d'+'('+str(len(d4))+')', end=' ')\n",
    "    print('5p'+'('+str(len(p5))+')', end=' ')\n",
    "    print('6s'+'('+str(len(s6))+')', end=' ')\n",
    "    print('4f'+'('+str(len(f4))+')', end=' ')\n",
    "    print('5d'+'('+str(len(d5))+')', end=' ')\n",
    "    print('6p'+'('+str(len(p6))+')', end=' ')\n",
    "    print('7s'+'('+str(len(s7))+')', end=' ')\n",
    "    print('5f'+'('+str(len(f5))+')', end=' ')\n",
    "    print('6d'+'('+str(len(d6))+')', end=' ')\n",
    "    print('7p'+'('+str(len(p7))+')', end=' ')\n",
    "\n"
   ]
  },
  {
   "cell_type": "code",
   "execution_count": null,
   "metadata": {},
   "outputs": [],
   "source": []
  },
  {
   "cell_type": "code",
   "execution_count": null,
   "metadata": {},
   "outputs": [],
   "source": []
  }
 ],
 "metadata": {
  "kernelspec": {
   "display_name": "Python 3",
   "language": "python",
   "name": "python3"
  },
  "language_info": {
   "codemirror_mode": {
    "name": "ipython",
    "version": 3
   },
   "file_extension": ".py",
   "mimetype": "text/x-python",
   "name": "python",
   "nbconvert_exporter": "python",
   "pygments_lexer": "ipython3",
   "version": "3.6.4"
  }
 },
 "nbformat": 4,
 "nbformat_minor": 2
}
